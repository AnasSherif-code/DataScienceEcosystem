{
 "cells": [
  {
   "cell_type": "markdown",
   "id": "1712d1fb-3c5f-43ce-b65e-cecb7d1d763a",
   "metadata": {},
   "source": [
    "# Data Science Tools and Ecosystem"
   ]
  },
  {
   "cell_type": "markdown",
   "id": "9ccebfe7-abff-4def-b09e-232d6754a82b",
   "metadata": {},
   "source": [
    "# In this notebook, Data Science Tools and Ecosystem are summarized."
   ]
  },
  {
   "cell_type": "markdown",
   "id": "733cdea0-88c9-4294-b4af-d018044f1930",
   "metadata": {},
   "source": [
    "# Some of the popular languages that Data Scientists use are:\n",
    "# 1. Python\n",
    "# 2. R\n",
    "# 3. SQl"
   ]
  },
  {
   "cell_type": "markdown",
   "id": "5554e494-02ac-4566-9e11-4182a0a1bc5e",
   "metadata": {},
   "source": [
    "# Some of the commonly used libraries used by Data Scientists include:\n",
    "# 1. Pandas\n",
    "# 2. ggplot2\n",
    "# 3. NumPy"
   ]
  },
  {
   "cell_type": "markdown",
   "id": "da212611-f725-475c-8b14-7fd1558ba6f5",
   "metadata": {},
   "source": [
    "# **Objectives:**\n",
    "# - Languages usually used in data science are python , R, SQl , Java , C++\n",
    "# - Course covers the basic first steps of understaning how to write simple codes inside the open source envirnoments\n",
    "# - what are the different sources of libraries \n"
   ]
  },
  {
   "cell_type": "markdown",
   "id": "755fbfb5-113a-4b52-b5f0-ea0a1be26c44",
   "metadata": {},
   "source": [
    "| Data Science Tools |\n",
    "|--------------------|\n",
    "| Jupyter Notebook |\n",
    "| R Studio |\n",
    "| Apache Zeplin |"
   ]
  },
  {
   "cell_type": "markdown",
   "id": "be403513-ee91-4c56-9b24-bcafe009f724",
   "metadata": {},
   "source": [
    "### Below are a few examples of evaluating arithmetic expressions in Python"
   ]
  },
  {
   "cell_type": "code",
   "execution_count": 3,
   "id": "64a8b71d-b066-4f4e-b08d-800a12302d7d",
   "metadata": {},
   "outputs": [
    {
     "data": {
      "text/plain": [
       "17"
      ]
     },
     "execution_count": 3,
     "metadata": {},
     "output_type": "execute_result"
    }
   ],
   "source": [
    "(3*4)+5"
   ]
  },
  {
   "cell_type": "markdown",
   "id": "55be76e4-d829-4bfd-b3d7-2a52be394a07",
   "metadata": {},
   "source": [
    " # This will convert 200 minutes to hours by diving by 60"
   ]
  },
  {
   "cell_type": "code",
   "execution_count": 5,
   "id": "bbcebc32-f330-493e-98af-4b3da8c35e66",
   "metadata": {},
   "outputs": [
    {
     "data": {
      "text/plain": [
       "3.3333333333333335"
      ]
     },
     "execution_count": 5,
     "metadata": {},
     "output_type": "execute_result"
    }
   ],
   "source": [
    "200 /60"
   ]
  },
  {
   "cell_type": "markdown",
   "id": "e03625ba-e6f7-4135-8514-be95ec6cfa06",
   "metadata": {},
   "source": [
    "## Author \n",
    "# Anas Sherif Elsayed "
   ]
  },
  {
   "cell_type": "code",
   "execution_count": null,
   "id": "d3eccf3e-4178-452c-94d7-5b15335064c3",
   "metadata": {},
   "outputs": [],
   "source": []
  }
 ],
 "metadata": {
  "kernelspec": {
   "display_name": "Python 3 (ipykernel)",
   "language": "python",
   "name": "python3"
  },
  "language_info": {
   "codemirror_mode": {
    "name": "ipython",
    "version": 3
   },
   "file_extension": ".py",
   "mimetype": "text/x-python",
   "name": "python",
   "nbconvert_exporter": "python",
   "pygments_lexer": "ipython3",
   "version": "3.12.8"
  }
 },
 "nbformat": 4,
 "nbformat_minor": 5
}
